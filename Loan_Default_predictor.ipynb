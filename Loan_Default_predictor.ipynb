{
 "cells": [
  {
   "cell_type": "code",
   "execution_count": 1,
   "id": "ddf34f24",
   "metadata": {},
   "outputs": [],
   "source": [
    "import pandas as pd\n",
    "import numpy as np\n",
    "import matplotlib as plt\n",
    "import seaborn as sns"
   ]
  },
  {
   "cell_type": "code",
   "execution_count": 5,
   "id": "0987652c",
   "metadata": {},
   "outputs": [],
   "source": [
    "df1 = pd.read_csv('Loan-Defualt-Prediction\\\\data\\\\accepted_2007_to_2018Q4.csv', nrows=25000, low_memory=False)"
   ]
  },
  {
   "cell_type": "code",
   "execution_count": null,
   "id": "96003b06",
   "metadata": {},
   "outputs": [],
   "source": [
    "df2 = pd.read_csv('Loan-Defualt-Prediction\\\\data\\\\rejected_2007_to_2018Q4.csv', nrows=25000, low_memory=True)"
   ]
  }
 ],
 "metadata": {
  "kernelspec": {
   "display_name": ".venv",
   "language": "python",
   "name": "python3"
  },
  "language_info": {
   "codemirror_mode": {
    "name": "ipython",
    "version": 3
   },
   "file_extension": ".py",
   "mimetype": "text/x-python",
   "name": "python",
   "nbconvert_exporter": "python",
   "pygments_lexer": "ipython3",
   "version": "3.12.6"
  }
 },
 "nbformat": 4,
 "nbformat_minor": 5
}
